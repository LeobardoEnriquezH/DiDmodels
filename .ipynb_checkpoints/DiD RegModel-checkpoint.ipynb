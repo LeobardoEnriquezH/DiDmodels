{
 "cells": [
  {
   "cell_type": "markdown",
   "id": "38eed26a-0860-4401-84c6-deae8d3bec0f",
   "metadata": {},
   "source": [
    "### DID model to estimate the effect of hurricanes on house prices"
   ]
  },
  {
   "cell_type": "markdown",
   "id": "de964064-40fb-47df-916d-bce58d9beaf7",
   "metadata": {},
   "source": [
    "Estimate the differential impact of a ‘Treatment’ on the treated group of individuals.\n",
    "\n",
    "The fitted DID model will tell us whether there is evidence of a net-additional effect observed in the treated group that is purely treatment induced, the estimated value of this, whether this estimate is statistically significant and if so, the 95% or 99% confidence intervals are around the estimated effect.\n",
    "\n",
    "Difference-In-Differences regression model:\n",
    "\n",
    "$y_i=\\beta_0 + \\beta_1*TP_i + \\beta_2*Treat_i + \\beta_3*(TP_i*Treat_i) + \\epsilon_i$\n",
    "\n",
    "$y_i=$ the observed response for the $ith$ observation (value being measured in each group before and after treatment).\n",
    "\n",
    "$\\beta_0$ intercept.\n",
    "\n",
    "$TP_i$ Time Perriod, is a dummy variable that takes the value 0 or 1 depending on whether the ith measurement refers to the pre or post treatment period respectively.\n",
    "\n",
    "$Trat_i$ Treated, is a dummy variable that takes the value 0 or 1 depending on whether the ith measurement refers to an individual in the control group or the treatment group respectively.\n",
    "\n",
    "$TP_i*Treat_i$ is an interaction term.\n",
    "\n",
    "$\\epsilon_i$ is the error term associated with the ith observation and it captures the effect of all factors that the model was not able to adequately represent.\n",
    "\n",
    "\n",
    "The two dummy variables in the model yield the follow 2 X 2 matrix of regression equations: \n",
    "\n",
    "\n",
    "<table ><tr><th > <th><th> $TP_i=0$ <th><th> $TP_i=1$ <tr><tr>\n",
    "<tr><td> $Treat_i=0$ <td><td> $y_i=\\beta_0+\\epsilon_i$ <td><td> $y_i=\\beta_0+\\beta_1+\\epsilon_i$ <td><tr><tr><td> $Treat_i=1$ <td><td> $y_i=\\beta_0+\\beta_2+\\epsilon_i$ <td><td> $y_i=\\beta_0+\\beta_1+\\beta_2+\\beta_3+\\epsilon_i$ <td><tr><table>\n",
    "    \n",
    "\n",
    "Using the Ordinary Least Squares Regression:\n",
    "    \n",
    "    \n",
    "$E(y_i | TP_i=0, Treat=0) = \\hat{\\beta_0}$\n",
    "\n",
    "$E(y_i | TP_i=1, Treat=0) = \\hat{\\beta_0} + \\hat{\\beta_1} $\n",
    "    \n",
    "$E(y_i | TP_i=0, Treat=1) = \\hat{\\beta_0} + \\hat{\\beta_2} $    \n",
    "\n",
    "$E(y_i | TP_i=1, Treat=1) = \\hat{\\beta_0} + \\hat{\\beta_1} + \\hat{\\beta_2}+  \\hat{\\beta_3} $      \n",
    "    \n",
    "    \n",
    "Calculate the difference in the expected value of $y_i$ between the before (pre-) and after (post-) treatment phases of the study.\n",
    "    \n",
    "For the treatment group, the difference in expectations works out as follows: \n",
    "\n",
    "$E(y_i | TP_i=1, Treat=1) - E(y_i | TP_i=0, Treat=1) = (\\hat{\\beta_0} + \\hat{\\beta_1} + \\hat{\\beta_2}+  \\hat{\\beta_3}) - (\\hat{\\beta_0} + \\hat{\\beta_2}) = \\hat{\\beta_1}+  \\hat{\\beta_3} $\n",
    "\n",
    "Similarly, for the control group we have:\n",
    "    \n",
    "$(E(y_i | TP_i=1, Treat=0)) - (E(y_i | TP_i=0, Treat=0)) = (\\hat{\\beta_0} + \\hat{\\beta_1}) - (\\hat{\\beta_0}) = \\hat{\\beta_1}$\n",
    "    \n",
    "\n",
    "The difference between the two differences gives us the net effect of the treatment on the treatment group:\n",
    "    \n",
    "$E(DiD effect) = (\\hat{\\beta_1} + \\hat{\\beta_3}) - (\\hat{\\beta_1}) = \\hat{\\beta_3}$\n",
    "\n",
    "    \n",
    "Difference-in-differences effect is the coefficient of the interaction term (TP_i*Treat_i).\n",
    "    \n",
    "After the DID model is trained, the fitted coefficient of the interaction term will give us the the estimated difference-in-differences effect that we are seeking. \n"
   ]
  },
  {
   "cell_type": "markdown",
   "id": "0dd3ed92-da20-489b-8452-48bc3a55b8e2",
   "metadata": {},
   "source": [
    "### Example"
   ]
  },
  {
   "cell_type": "markdown",
   "id": "25293af9-e0dc-472d-9e89-ebedb6cd9eb3",
   "metadata": {},
   "source": [
    "Difference-In-Differences model to estimate the effect of 2005 of Atlantic coastal weather events (hurricane season) on house prices.\n",
    "\n",
    "\n",
    "TECHNICAL DATA GENERATION\n",
    "\n",
    "Source: https://towardsdatascience.com/a-guide-to-using-the-difference-in-differences-regression-model-87cd2fb3224a\n",
    "\n",
    "\n",
    "Defining the criteria for being included in the Treatment group. Examining the actions taken by the US Federal Emergency Management Agency with Individual Assistance and count the number of counties in each coastal state which qualified for receiving it: \"NUM_IND_ASSIST\". Any state with a count greater or equal to the median (14) will fall into the treatment group, the rest will be part of the control group: \"Disaster_Affected\". \n",
    "\n",
    "\n",
    "Setting up the Time Period column. we will set to 0 to indicate the period before the start of the 2005 hurricane season, and to 1 to indicate the period after the end of the hurricane season: \"Time_Period\" \n",
    "\n",
    "\n",
    "Calculating the value of the response variable.  The goal is to study the effect of the 2005 hurricane season on house prices in the coastal states, using the state-wise All Transactions House Price Index published by the US Federal Reserve. The time series data sets are selected for the 24 states of interest and knock them together into a 24-state data panel.  The time periods of interest are the 4 quarters immediately prior to the 2005 hurricane season and the 4 quarters immediately following the season. For each state, calculate the average quarter-over-quarter (Q-o-Q) fractional change in the house price index over the two sets of quarters (pre and post): $HPI Fractional Change = \\frac{HPI_i — HPI_{i-1}}{HPI_{i-1}}$. Next, take the vertical average of each block of 4 quarters to arrive at the average fractional change in HPI across 4 quarters both before and after the 2005 hurricane season. Repeat this calculation for each state to get the value of the response variable HPI_CHG for the pre-treatment and post-treatment phases. For each state, there are two response values: the top value is the pre-treatment value and the bottom one is the post-treatment value. Thus, there is one value corresponding to Time_Period=0 and another one corresponding to Time_Period=1. The column  HPI_CPG is our response variable $y_i$.\n",
    "\n"
   ]
  },
  {
   "cell_type": "markdown",
   "id": "eb6a5e4e-77c4-4788-96e7-4ef6c918b080",
   "metadata": {},
   "source": [
    "Building the Difference-In-Differences model for house price inflation: \n",
    "\n",
    "Equation for our DID model:\n",
    "\n",
    "$HPI\\_CHG_i=\\beta_0 + \\beta_1*Time\\_Period_i + \\beta_2*Disaster\\_Affected_i + \\beta_3*(Time\\_Period_i*Disaster\\_Affected_i) + \\epsilon_i$\n",
    "\n"
   ]
  },
  {
   "cell_type": "code",
   "execution_count": 5,
   "id": "f4b34eb4-4323-4f46-a595-49cd78800335",
   "metadata": {},
   "outputs": [],
   "source": [
    "import pandas as pd\n",
    "from patsy import dmatrices\n",
    "import statsmodels.api as sm\n"
   ]
  },
  {
   "cell_type": "code",
   "execution_count": 8,
   "id": "bf10347e-a4ad-4a3a-ad11-62ae31342a07",
   "metadata": {},
   "outputs": [],
   "source": [
    "#Load the data set into a Pandas Dataframe\n",
    "df = pd.read_csv('us_fred_coastal_us_states_avg_hpi_before_after_2005.csv', header=0)\n",
    "\n",
    "#Print it\n",
    "#print(df)"
   ]
  },
  {
   "cell_type": "code",
   "execution_count": 9,
   "id": "7942f939-c452-4065-96cf-bd1afaa667c2",
   "metadata": {},
   "outputs": [],
   "source": [
    "#Form the regression expression in Patsy syntax. The intercept is assumed to be present and will be\n",
    "# included in the data set automatically\n",
    "reg_exp = 'HPI_CHG ~ Time_Period + Disaster_Affected + Time_Period*Disaster_Affected'\n",
    "\n"
   ]
  },
  {
   "cell_type": "code",
   "execution_count": 10,
   "id": "bb126430-b8ee-4f63-90f3-245e0a41e755",
   "metadata": {},
   "outputs": [],
   "source": [
    "#Carve out the training matrices\n",
    "y_train, X_train = dmatrices(reg_exp, df, return_type='dataframe')\n",
    "\n"
   ]
  },
  {
   "cell_type": "code",
   "execution_count": 11,
   "id": "c237943b-34a9-4aba-8b79-fa05a2dae9d5",
   "metadata": {},
   "outputs": [],
   "source": [
    "#Build the DID model\n",
    "did_model = sm.OLS(endog=y_train, exog=X_train)\n",
    "\n"
   ]
  },
  {
   "cell_type": "code",
   "execution_count": 12,
   "id": "54ef66c5-b940-4587-8413-a9db44a82ce8",
   "metadata": {},
   "outputs": [],
   "source": [
    "#Train the model\n",
    "did_model_results = did_model.fit()\n"
   ]
  },
  {
   "cell_type": "code",
   "execution_count": 13,
   "id": "2f5f0de7-2044-4ffe-8f8c-81aeca31bf51",
   "metadata": {},
   "outputs": [
    {
     "data": {
      "text/html": [
       "<table class=\"simpletable\">\n",
       "<caption>OLS Regression Results</caption>\n",
       "<tr>\n",
       "  <th>Dep. Variable:</th>         <td>HPI_CHG</td>     <th>  R-squared:         </th> <td>   0.536</td>\n",
       "</tr>\n",
       "<tr>\n",
       "  <th>Model:</th>                   <td>OLS</td>       <th>  Adj. R-squared:    </th> <td>   0.504</td>\n",
       "</tr>\n",
       "<tr>\n",
       "  <th>Method:</th>             <td>Least Squares</td>  <th>  F-statistic:       </th> <td>   16.92</td>\n",
       "</tr>\n",
       "<tr>\n",
       "  <th>Date:</th>             <td>Sun, 05 Nov 2023</td> <th>  Prob (F-statistic):</th> <td>1.88e-07</td>\n",
       "</tr>\n",
       "<tr>\n",
       "  <th>Time:</th>                 <td>22:15:09</td>     <th>  Log-Likelihood:    </th> <td>  145.14</td>\n",
       "</tr>\n",
       "<tr>\n",
       "  <th>No. Observations:</th>      <td>    48</td>      <th>  AIC:               </th> <td>  -282.3</td>\n",
       "</tr>\n",
       "<tr>\n",
       "  <th>Df Residuals:</th>          <td>    44</td>      <th>  BIC:               </th> <td>  -274.8</td>\n",
       "</tr>\n",
       "<tr>\n",
       "  <th>Df Model:</th>              <td>     3</td>      <th>                     </th>     <td> </td>   \n",
       "</tr>\n",
       "<tr>\n",
       "  <th>Covariance Type:</th>      <td>nonrobust</td>    <th>                     </th>     <td> </td>   \n",
       "</tr>\n",
       "</table>\n",
       "<table class=\"simpletable\">\n",
       "<tr>\n",
       "                <td></td>                   <th>coef</th>     <th>std err</th>      <th>t</th>      <th>P>|t|</th>  <th>[0.025</th>    <th>0.975]</th>  \n",
       "</tr>\n",
       "<tr>\n",
       "  <th>Intercept</th>                     <td>    0.0371</td> <td>    0.003</td> <td>   13.157</td> <td> 0.000</td> <td>    0.031</td> <td>    0.043</td>\n",
       "</tr>\n",
       "<tr>\n",
       "  <th>Time_Period</th>                   <td>   -0.0278</td> <td>    0.004</td> <td>   -6.985</td> <td> 0.000</td> <td>   -0.036</td> <td>   -0.020</td>\n",
       "</tr>\n",
       "<tr>\n",
       "  <th>Disaster_Affected</th>             <td>   -0.0139</td> <td>    0.006</td> <td>   -2.258</td> <td> 0.029</td> <td>   -0.026</td> <td>   -0.001</td>\n",
       "</tr>\n",
       "<tr>\n",
       "  <th>Time_Period:Disaster_Affected</th> <td>    0.0197</td> <td>    0.009</td> <td>    2.260</td> <td> 0.029</td> <td>    0.002</td> <td>    0.037</td>\n",
       "</tr>\n",
       "</table>\n",
       "<table class=\"simpletable\">\n",
       "<tr>\n",
       "  <th>Omnibus:</th>       <td> 5.463</td> <th>  Durbin-Watson:     </th> <td>   1.165</td>\n",
       "</tr>\n",
       "<tr>\n",
       "  <th>Prob(Omnibus):</th> <td> 0.065</td> <th>  Jarque-Bera (JB):  </th> <td>   4.279</td>\n",
       "</tr>\n",
       "<tr>\n",
       "  <th>Skew:</th>          <td> 0.623</td> <th>  Prob(JB):          </th> <td>   0.118</td>\n",
       "</tr>\n",
       "<tr>\n",
       "  <th>Kurtosis:</th>      <td> 3.767</td> <th>  Cond. No.          </th> <td>    6.78</td>\n",
       "</tr>\n",
       "</table><br/><br/>Notes:<br/>[1] Standard Errors assume that the covariance matrix of the errors is correctly specified."
      ],
      "text/plain": [
       "<class 'statsmodels.iolib.summary.Summary'>\n",
       "\"\"\"\n",
       "                            OLS Regression Results                            \n",
       "==============================================================================\n",
       "Dep. Variable:                HPI_CHG   R-squared:                       0.536\n",
       "Model:                            OLS   Adj. R-squared:                  0.504\n",
       "Method:                 Least Squares   F-statistic:                     16.92\n",
       "Date:                Sun, 05 Nov 2023   Prob (F-statistic):           1.88e-07\n",
       "Time:                        22:15:09   Log-Likelihood:                 145.14\n",
       "No. Observations:                  48   AIC:                            -282.3\n",
       "Df Residuals:                      44   BIC:                            -274.8\n",
       "Df Model:                           3                                         \n",
       "Covariance Type:            nonrobust                                         \n",
       "=================================================================================================\n",
       "                                    coef    std err          t      P>|t|      [0.025      0.975]\n",
       "-------------------------------------------------------------------------------------------------\n",
       "Intercept                         0.0371      0.003     13.157      0.000       0.031       0.043\n",
       "Time_Period                      -0.0278      0.004     -6.985      0.000      -0.036      -0.020\n",
       "Disaster_Affected                -0.0139      0.006     -2.258      0.029      -0.026      -0.001\n",
       "Time_Period:Disaster_Affected     0.0197      0.009      2.260      0.029       0.002       0.037\n",
       "==============================================================================\n",
       "Omnibus:                        5.463   Durbin-Watson:                   1.165\n",
       "Prob(Omnibus):                  0.065   Jarque-Bera (JB):                4.279\n",
       "Skew:                           0.623   Prob(JB):                        0.118\n",
       "Kurtosis:                       3.767   Cond. No.                         6.78\n",
       "==============================================================================\n",
       "\n",
       "Notes:\n",
       "[1] Standard Errors assume that the covariance matrix of the errors is correctly specified.\n",
       "\"\"\""
      ]
     },
     "execution_count": 13,
     "metadata": {},
     "output_type": "execute_result"
    }
   ],
   "source": [
    "#Print out the training results\n",
    "did_model_results.summary()"
   ]
  },
  {
   "cell_type": "markdown",
   "id": "55a0fd47-2fbe-4ca2-9572-15d12abe5d48",
   "metadata": {},
   "source": [
    "We see that the adjusted R-squared is 0.504. The model has been able to explain more than 50% of the variance in the response variable HPI_CHG.\n",
    "\n",
    "The p value of the F-statistic is 1.88e-07 which is statistically significant, leading us to conclude that the model’s variables are jointly significant and they are together doing a good job of explain the variance in HPI_CHG. \n",
    "\n",
    "All coefficients are statistically significant as indicated by their p values which are all smaller than 0.05.\n",
    "\n",
    "The equation of the fitted model is: $HPI\\_CHG_i = 0.0371 - 0.0278*Time\\_Period_i - 0.139*Disaster\\_Affected_i + 0.0197*(Time\\_Period_i*Disaster\\_Affected_i) + \\epsilon_i$"
   ]
  },
  {
   "cell_type": "markdown",
   "id": "5dabad3f-f1ec-4d56-83d6-55047be7fde9",
   "metadata": {},
   "source": [
    "### Interpretation of each combination of the two dummy variables:"
   ]
  },
  {
   "cell_type": "markdown",
   "id": "861a58db-7bc8-4951-b168-bf183df92cd4",
   "metadata": {},
   "source": [
    "Time_Period_i=0 and Dister_Affected_i=0\n",
    "\n",
    "$E(HPI\\_CHG) = 0.0371$\n",
    "\n",
    "Ii is the expected Q-o-Q change in house price index in the control group states during the pre-hurricane period. This equation gives us the estimated mean inflation in house prices in the control group during the four quarters immediately preceding the 2005 hurricane season. The value of the estimated mean inflation is simply the intercept of regression: 0.0371, or 3.71%."
   ]
  },
  {
   "cell_type": "markdown",
   "id": "631faa2b-e677-47e6-940c-9270654a7a49",
   "metadata": {},
   "source": [
    "Time_Period_i=1 and Disaster_Affected_i=0\n",
    "\n",
    "$E(HPI\\_CHG) = 0.0371 - 0.0278 = 0.0093$\n",
    "\n",
    "It is the expected Q-o-Q change in house price index in the control group states during the post-hurricane period. This equation give us the estimated mean inflation in house prices in the control group states in the post-treatment period, i.e. during the four quarters following the hurricane season. The value of the estimated mean inflation is 0.0093, or 0.93%."
   ]
  },
  {
   "cell_type": "markdown",
   "id": "90dad8fc-c1af-4d71-9cbd-b9b5916913a9",
   "metadata": {},
   "source": [
    "Time_Period_i=0 and Disaster_Affected_i=1\n",
    "\n",
    "$E(HPI\\_CHG) = 0.0371 - 0.0371 = 0.0232$\n",
    "\n",
    "It is the expected Q-o-Q change in house price index in the treatment group states during the pre-hurricane period. This equation gives us the estimated mean house price inflation in the treatment group states during the four quarters prior to the start of the hurricane season. The value of this inflation is 0.0232, or 2.32%.\n"
   ]
  },
  {
   "cell_type": "markdown",
   "id": "9922e02e-cc88-483f-a027-8621c97b7be0",
   "metadata": {},
   "source": [
    "Time_Period_i=1 and Disaster_Affected_i=1\n",
    "\n",
    "$E(HPI\\_CHG) = 0.0371 - 0.0278 - 0.0139 + 0.0197 = 0.0151$\n",
    "\n",
    "It is the expected Q-o-Q change in house price index in the treatment group states during the post-hurricane period. This equation gives us the estimated mean house price inflation in the treatment group during the four quarters following the end of the hurricane season. The value of this inflation is 0.0151 or 1.51%."
   ]
  },
  {
   "cell_type": "markdown",
   "id": "ef98c96d-7dd8-471c-90a8-476367866552",
   "metadata": {},
   "source": [
    "\n",
    "\n",
    "\n",
    "<table ><tr><th > <th><th> Treatment Group <th><th> Control Group <tr><tr> <tr><th > <th><th> E(HPI_CHG | DisasterAffected=1) <th><th> E(HPI_CHG | DisasterAffected=0) <tr><tr>\n",
    "<tr><td> Time_Period = 0 <td><td> $2.32\\%$ <td><td> $3.71\\%$ <td><tr><tr><td> Time_Period = 1 <td><td> $1.51\\%$ <td><td> $0.93\\%$ <td><tr><tr><td> $\\delta$E(HPI_CPG) <td><td> $-0.81\\%$ <td><td> $-2.78\\%$ <td><tr><table>\n",
    "    "
   ]
  },
  {
   "cell_type": "markdown",
   "id": "67273d56-7e1c-490c-99ba-93cf650b12d9",
   "metadata": {},
   "source": [
    "In the Disaster Affected group, the inflation in house prices in the four quarters following the hurricane season were lower by 0.81% as compared to the house price inflation experienced in the four quarters prior to the start of the hurricane season. In the non Disaster Affected group, the inflation in house prices in the four quarters following the hurricane season were lower by 2.78% as compared to the house price inflation experienced in the four quarters prior to the start of the hurricane season."
   ]
  },
  {
   "cell_type": "markdown",
   "id": "21b23fea-222b-4417-ad8c-8336ff463f88",
   "metadata": {},
   "source": [
    "The difference-in-difference effect between the two groups is: \n",
    "\n",
    "$\\delta$ E(HPI_CPG | Disaster_Affected=1) - $\\delta$ E(HPI_CPG | Disaster\\_Affected=0) =(-0.81%) - (-2.78%)= 1.97%"
   ]
  },
  {
   "cell_type": "markdown",
   "id": "e1f87c62-2ecf-417a-8f5c-e21d9d1d7cdb",
   "metadata": {},
   "source": [
    "The value of 1.97% is exactly the value of the coefficient of Time_Period*Disaster_Affected interaction term reported by the trained DID regression model"
   ]
  },
  {
   "cell_type": "markdown",
   "id": "92cfe5e2-5619-407b-a83f-b2959cdaf503",
   "metadata": {},
   "source": [
    "The estimated difference-in-differences of 1.97% suggests that the house price inflation in the states that were especially affected by the 2005 hurricane season cooled down less than in the rest of the coastal states after the season ended."
   ]
  },
  {
   "cell_type": "code",
   "execution_count": null,
   "id": "f71e6d22-8ce1-44a0-ab9d-03596eb8ffe4",
   "metadata": {},
   "outputs": [],
   "source": []
  }
 ],
 "metadata": {
  "kernelspec": {
   "display_name": "Python 3 (ipykernel)",
   "language": "python",
   "name": "python3"
  },
  "language_info": {
   "codemirror_mode": {
    "name": "ipython",
    "version": 3
   },
   "file_extension": ".py",
   "mimetype": "text/x-python",
   "name": "python",
   "nbconvert_exporter": "python",
   "pygments_lexer": "ipython3",
   "version": "3.11.1"
  }
 },
 "nbformat": 4,
 "nbformat_minor": 5
}
